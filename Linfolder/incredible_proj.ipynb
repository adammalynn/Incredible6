{
 "cells": [
  {
   "cell_type": "code",
   "execution_count": 2,
   "metadata": {},
   "outputs": [],
   "source": [
    "# Dependencies and Setup\n",
    "import matplotlib.pyplot as plt\n",
    "import pandas as pd\n",
    "import numpy as np\n",
    "import requests\n",
    "import json\n",
    "import time\n",
    "import csv\n",
    "import gmaps\n",
    "\n",
    "# Google developer API key\n",
    "from config1 import gkey\n",
    "\n",
    "# Configure gmaps\n",
    "gmaps.configure(api_key = gkey)\n",
    "\n",
    "# Name of the CSV file\n",
    "file2 = 'resources/raleigh_restaurant_output_data.csv'\n",
    "\n",
    "# Read csv into pandas dataframe with a correct encoding \n",
    "restaurant = pd.read_csv(file2, encoding=\"ISO-8859-1\")\n"
   ]
  },
  {
   "cell_type": "code",
   "execution_count": 3,
   "metadata": {},
   "outputs": [
    {
     "data": {
      "text/plain": [
       "City         1101\n",
       "Name         1101\n",
       "Review       1101\n",
       "Zip_codes    1098\n",
       "Rating       1101\n",
       "Price        1101\n",
       "Lat          1101\n",
       "Long         1101\n",
       "Title        1101\n",
       "dtype: int64"
      ]
     },
     "execution_count": 3,
     "metadata": {},
     "output_type": "execute_result"
    }
   ],
   "source": [
    "# Check for missing information\n",
    "restaurant.count()"
   ]
  },
  {
   "cell_type": "code",
   "execution_count": 4,
   "metadata": {},
   "outputs": [
    {
     "data": {
      "text/plain": [
       "City         1098\n",
       "Name         1098\n",
       "Review       1098\n",
       "Zip_codes    1098\n",
       "Rating       1098\n",
       "Price        1098\n",
       "Lat          1098\n",
       "Long         1098\n",
       "Title        1098\n",
       "dtype: int64"
      ]
     },
     "execution_count": 4,
     "metadata": {},
     "output_type": "execute_result"
    }
   ],
   "source": [
    "restaurantp = restaurant\n",
    "# Drop all rows with missing information\n",
    "restaurantp = restaurantp.dropna(how='any')\n",
    "restaurantp.count()"
   ]
  },
  {
   "cell_type": "code",
   "execution_count": 5,
   "metadata": {},
   "outputs": [
    {
     "data": {
      "text/plain": [
       "City          object\n",
       "Name          object\n",
       "Review         int64\n",
       "Zip_codes    float64\n",
       "Rating       float64\n",
       "Price         object\n",
       "Lat          float64\n",
       "Long         float64\n",
       "Title         object\n",
       "dtype: object"
      ]
     },
     "execution_count": 5,
     "metadata": {},
     "output_type": "execute_result"
    }
   ],
   "source": [
    "# check for data type\n",
    "restaurantp.dtypes\n"
   ]
  },
  {
   "cell_type": "code",
   "execution_count": 6,
   "metadata": {},
   "outputs": [
    {
     "data": {
      "text/html": [
       "<div>\n",
       "<style scoped>\n",
       "    .dataframe tbody tr th:only-of-type {\n",
       "        vertical-align: middle;\n",
       "    }\n",
       "\n",
       "    .dataframe tbody tr th {\n",
       "        vertical-align: top;\n",
       "    }\n",
       "\n",
       "    .dataframe thead th {\n",
       "        text-align: right;\n",
       "    }\n",
       "</style>\n",
       "<table border=\"1\" class=\"dataframe\">\n",
       "  <thead>\n",
       "    <tr style=\"text-align: right;\">\n",
       "      <th></th>\n",
       "      <th>City</th>\n",
       "      <th>Name</th>\n",
       "      <th>Review</th>\n",
       "      <th>Zip_codes</th>\n",
       "      <th>Rating</th>\n",
       "      <th>Price</th>\n",
       "      <th>Lat</th>\n",
       "      <th>Long</th>\n",
       "      <th>Title</th>\n",
       "    </tr>\n",
       "  </thead>\n",
       "  <tbody>\n",
       "    <tr>\n",
       "      <th>0</th>\n",
       "      <td>asheville</td>\n",
       "      <td>Sunny Point Café</td>\n",
       "      <td>1523</td>\n",
       "      <td>28806.0</td>\n",
       "      <td>4.5</td>\n",
       "      <td>$$</td>\n",
       "      <td>35.578590</td>\n",
       "      <td>-82.588850</td>\n",
       "      <td>Southern</td>\n",
       "    </tr>\n",
       "    <tr>\n",
       "      <th>1</th>\n",
       "      <td>asheville</td>\n",
       "      <td>Cúrate</td>\n",
       "      <td>1408</td>\n",
       "      <td>28801.0</td>\n",
       "      <td>4.5</td>\n",
       "      <td>$$$</td>\n",
       "      <td>35.594200</td>\n",
       "      <td>-82.551620</td>\n",
       "      <td>Tapas Bars</td>\n",
       "    </tr>\n",
       "    <tr>\n",
       "      <th>2</th>\n",
       "      <td>asheville</td>\n",
       "      <td>Tupelo Honey</td>\n",
       "      <td>2102</td>\n",
       "      <td>28801.0</td>\n",
       "      <td>4.5</td>\n",
       "      <td>$$</td>\n",
       "      <td>35.594671</td>\n",
       "      <td>-82.554889</td>\n",
       "      <td>Southern</td>\n",
       "    </tr>\n",
       "    <tr>\n",
       "      <th>3</th>\n",
       "      <td>asheville</td>\n",
       "      <td>Biscuit Head</td>\n",
       "      <td>1151</td>\n",
       "      <td>28801.0</td>\n",
       "      <td>4.5</td>\n",
       "      <td>$</td>\n",
       "      <td>35.581281</td>\n",
       "      <td>-82.551528</td>\n",
       "      <td>Cafes</td>\n",
       "    </tr>\n",
       "    <tr>\n",
       "      <th>4</th>\n",
       "      <td>asheville</td>\n",
       "      <td>White Duck Taco Shop</td>\n",
       "      <td>1226</td>\n",
       "      <td>28801.0</td>\n",
       "      <td>4.5</td>\n",
       "      <td>$</td>\n",
       "      <td>35.594012</td>\n",
       "      <td>-82.572271</td>\n",
       "      <td>American (New)</td>\n",
       "    </tr>\n",
       "  </tbody>\n",
       "</table>\n",
       "</div>"
      ],
      "text/plain": [
       "        City                  Name  Review  Zip_codes  Rating Price  \\\n",
       "0  asheville      Sunny Point Café    1523    28806.0     4.5    $$   \n",
       "1  asheville                Cúrate    1408    28801.0     4.5   $$$   \n",
       "2  asheville          Tupelo Honey    2102    28801.0     4.5    $$   \n",
       "3  asheville          Biscuit Head    1151    28801.0     4.5     $   \n",
       "4  asheville  White Duck Taco Shop    1226    28801.0     4.5     $   \n",
       "\n",
       "         Lat       Long           Title  \n",
       "0  35.578590 -82.588850        Southern  \n",
       "1  35.594200 -82.551620      Tapas Bars  \n",
       "2  35.594671 -82.554889        Southern  \n",
       "3  35.581281 -82.551528           Cafes  \n",
       "4  35.594012 -82.572271  American (New)  "
      ]
     },
     "execution_count": 6,
     "metadata": {},
     "output_type": "execute_result"
    }
   ],
   "source": [
    "new_restaurantp = restaurantp\n",
    "# print dataframe\n",
    "new_restaurantp.head()"
   ]
  },
  {
   "cell_type": "code",
   "execution_count": 7,
   "metadata": {},
   "outputs": [
    {
     "data": {
      "image/png": "[encoded data removed]",
      "text/plain": [
       "<Figure size 648x432 with 1 Axes>"
      ]
     },
     "metadata": {
      "needs_background": "light"
     },
     "output_type": "display_data"
    }
   ],
   "source": [
    "#Split up our data into groups based upon 'city' and 'type' then perform calculations\n",
    "restaurant_type = new_restaurantp.groupby([\"City\", \"Zip_codes\"]).agg({\"Rating\":[\"mean\"], \"Review\":[\"mean\"], \"Zip_codes\":[\"count\"]})\n",
    "                                  \n",
    "#name the columns of the calculated values\n",
    "restaurant_type.columns = [\"Ave rating\", \"Ave review\", \"Zip codes\"]\n",
    "restaurant_type\n",
    "\n",
    "#Make a variable based on type and store 'each type' in it\n",
    "asheville_id = \"asheville\"\n",
    "raleigh_id = \"raleigh\"\n",
    "\n",
    "\n",
    "#Collect the trips of the 'type id of type' above\n",
    "asheville_type = restaurant_type.loc[asheville_id]\n",
    "raleigh_type = restaurant_type.loc[raleigh_id]\n",
    "\n",
    "\n",
    "# X and y cordinates for asheville\n",
    "y_axis = asheville_type[\"Ave rating\"]\n",
    "x_axis = asheville_type[\"Ave review\"]\n",
    "z_axis = asheville_type[\"Zip codes\"]\n",
    "\n",
    "# X and Y coordinates for raleigh\n",
    "y = raleigh_type[\"Ave rating\"]\n",
    "x = raleigh_type[\"Ave review\"]\n",
    "z = raleigh_type[\"Zip codes\"]\n",
    "\n",
    "\n",
    "plt.figure(figsize=(9,6))\n",
    "# Build the scatter plots for each city \n",
    "a=plt.scatter(x_axis, y_axis, facecolors=\"green\", edgecolors=\"black\", linewidth=0.5,\n",
    "              s=z_axis*30, alpha=0.75, marker=r'$\\clubsuit$')\n",
    "b=plt.scatter(x, y, facecolors=\"lightskyblue\", edgecolors=\"black\", linewidth=0.5,\n",
    "             s=z*30, alpha=0.75, marker=r\"$\\clubsuit$\")\n",
    "\n",
    "# # Incorporated other graph properties\n",
    "#The y limits of our scatter plot \n",
    "plt.ylim(3.4, 4.8)\n",
    "# The x limits of our scatter plot \n",
    "plt.xlim(0, 300)\n",
    "# Create a title, x label, and y label for our chart\n",
    "plt.title(\"Best Neighborhood to visit in Raleigh and Asheville\")\n",
    "plt.xlabel(\"Average reviews (neighbourhood)\")\n",
    "plt.ylabel(\"Average rating (neighbourhood)\")\n",
    "\n",
    "# Create a legend\n",
    "plt.text(305, 4.4, 'Note: size correlates with restaurant count', horizontalalignment='left', verticalalignment='top')\n",
    "g= plt.legend((a,b), (\"Asheville\", \"Raleigh\"), title = \"City\", fontsize = 8, markerscale = 0.3)\n",
    "\n",
    "\n",
    "# grid\n",
    "plt.grid()\n",
    "\n",
    "\n",
    "# Save Figure \n",
    "plt.savefig(\"images/pic1.png\") \n"
   ]
  },
  {
   "cell_type": "code",
   "execution_count": 8,
   "metadata": {},
   "outputs": [],
   "source": [
    "# Filter the data so that only those with 5 rating are in a DataFrame\n",
    "rest_rating = new_restaurantp.loc[new_restaurantp[\"Rating\"] == 5, :]\n",
    "\n",
    "\n",
    "# Store latitude and longitude in locations\n",
    "locations = rest_rating[[\"Lat\", \"Long\"]]\n",
    "\n",
    "# Fill NaN values and convert to float\n",
    "rating = rest_rating[\"Rating\"].astype(float)\n",
    "\n"
   ]
  },
  {
   "cell_type": "code",
   "execution_count": 10,
   "metadata": {},
   "outputs": [],
   "source": [
    "# Customize the size of the figure\n",
    "figure_layout = {\n",
    "    'width': '700px',\n",
    "    'height': '600px',\n",
    "    'border': '1px solid black',\n",
    "    'padding': '1px',\n",
    "    'margin': '0 auto 0 auto'\n",
    "}\n",
    "fig = gmaps.figure(layout=figure_layout)"
   ]
  },
  {
   "cell_type": "code",
   "execution_count": 11,
   "metadata": {},
   "outputs": [
    {
     "data": {
      "application/vnd.jupyter.widget-view+json": {
       "model_id": "90f13e1c81a34c8cb8485c35e7bb29dc",
       "version_major": 2,
       "version_minor": 0
      },
      "text/plain": [
       "Figure(layout=FigureLayout(border='1px solid black', height='600px', margin='0 auto 0 auto', padding='1px', wi…"
      ]
     },
     "metadata": {},
     "output_type": "display_data"
    }
   ],
   "source": [
    "# Assign the marker layer to a variable\n",
    "markers = gmaps.marker_layer(locations)\n",
    "# Add the layer to the map\n",
    "fig.add_layer(markers)\n",
    "fig\n"
   ]
  },
  {
   "cell_type": "code",
   "execution_count": 12,
   "metadata": {},
   "outputs": [
    {
     "data": {
      "application/vnd.jupyter.widget-view+json": {
       "model_id": "90f13e1c81a34c8cb8485c35e7bb29dc",
       "version_major": 2,
       "version_minor": 0
      },
      "text/plain": [
       "Figure(layout=FigureLayout(border='1px solid black', height='600px', margin='0 auto 0 auto', padding='1px', wi…"
      ]
     },
     "metadata": {},
     "output_type": "display_data"
    }
   ],
   "source": [
    "# Assign the marker layer to a variable\n",
    "markers = gmaps.marker_layer(locations)\n",
    "# Add the layer to the map\n",
    "fig.add_layer(markers)\n",
    "fig"
   ]
  },
  {
   "cell_type": "code",
   "execution_count": null,
   "metadata": {},
   "outputs": [],
   "source": []
  }
 ],
 "metadata": {
  "kernelspec": {
   "display_name": "Python 3",
   "language": "python",
   "name": "python3"
  },
  "language_info": {
   "codemirror_mode": {
    "name": "ipython",
    "version": 3
   },
   "file_extension": ".py",
   "mimetype": "text/x-python",
   "name": "python",
   "nbconvert_exporter": "python",
   "pygments_lexer": "ipython3",
   "version": "3.7.0"
  }
 },
 "nbformat": 4,
 "nbformat_minor": 2
}
