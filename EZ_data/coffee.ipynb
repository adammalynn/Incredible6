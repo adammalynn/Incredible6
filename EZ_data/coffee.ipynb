{
 "cells": [
  {
   "cell_type": "code",
   "execution_count": 74,
   "metadata": {},
   "outputs": [],
   "source": [
    "# Import Numpy for calculations and matplotlib for charting\n",
    "import numpy as np\n",
    "import pandas as pd\n",
    "import matplotlib.pyplot as plt\n",
    "from pylab import figure, axes, pie, title, show"
   ]
  },
  {
   "cell_type": "code",
   "execution_count": 75,
   "metadata": {},
   "outputs": [],
   "source": [
    "# Load in csv\n",
    "coffee_ral_df = pd.read_csv(\"resources/yelp_data_coffee_raleigh-output_data.csv\")\n",
    "coffee_ash_df = pd.read_csv(\"resources/yelp_data_coffee_asheville-output_data.csv\")\n",
    "# coffee_ash_df.head()\n",
    "# Display a statistical overview of the DataFrame\n",
    "# coffee_ral_df.describe()\n",
    "# coffee_ral_df.dtypes"
   ]
  },
  {
   "cell_type": "code",
   "execution_count": 76,
   "metadata": {},
   "outputs": [],
   "source": [
    "#Test data \n",
    "# Found data was missing from price(69 of 84) , ran dropna and retested, now 65 all\n",
    "# coffee_ral_df.columns\n",
    "# coffee_ral_df.count()\n",
    "coffee_ral_df_clean = coffee_ral_df.dropna(how='any')\n",
    "coffee_ash_df_clean = coffee_ash_df.dropna(how='any')\n",
    "# coffee_ral_df_clean.count()"
   ]
  },
  {
   "cell_type": "code",
   "execution_count": 77,
   "metadata": {},
   "outputs": [],
   "source": [
    "# Reorganizing the columns using double brackets\n",
    "organized_coffee_ral_df = coffee_ral_df_clean[[\"name\",\"review_count\",\"rating\"]]\n",
    "organized_coffee_ash_df = coffee_ash_df_clean[[\"name\",\"review_count\",\"rating\"]]\n",
    "# organized_coffee_ral_df.head()"
   ]
  },
  {
   "cell_type": "code",
   "execution_count": 78,
   "metadata": {},
   "outputs": [],
   "source": [
    "# Create a group based on the values in the 'name' column\n",
    "named_coffee_ral_df = organized_coffee_ral_df.groupby('name')\n",
    "named_coffee_ash_df = organized_coffee_ash_df.groupby('name')\n",
    "# named_coffee_ral_df.head(5)\n"
   ]
  },
  {
   "cell_type": "code",
   "execution_count": 79,
   "metadata": {},
   "outputs": [],
   "source": [
    "# test - failed sorting\n",
    "\n",
    "# testnamed_coffee_ral_df = organized_coffee_ral_df.sort_values('review_count', ascending=[False,True])\n",
    "# # Samplecode#df.sort_values(['c1','c2'], ascending=[False,True])\n",
    "# testnamed_coffee_ral_df.head()"
   ]
  },
  {
   "cell_type": "code",
   "execution_count": 80,
   "metadata": {},
   "outputs": [
    {
     "data": {
      "text/plain": [
       "name\n",
       "Benelux Coffee              5\n",
       "Circle K                    9\n",
       "Dunkin' Donuts            161\n",
       "Gloria Jean's Coffee       10\n",
       "Hillsborough Mart           5\n",
       "Java Jive                  60\n",
       "McDonald's                432\n",
       "Paradise Hookah Lounge     10\n",
       "Patti's Cafe                7\n",
       "Pinnacle Nutrition          6\n",
       "Port City Java              8\n",
       "Sheetz                     10\n",
       "Starbucks                 401\n",
       "The Campus Grind            1\n",
       "Name: review_count, dtype: int64"
      ]
     },
     "execution_count": 80,
     "metadata": {},
     "output_type": "execute_result"
    }
   ],
   "source": [
    "# The sum of reviews received by name - bar graphed below\n",
    "total_rev_ral = named_coffee_ral_df[\"review_count\"].sum()\n",
    "total_rev_ash = named_coffee_ash_df[\"review_count\"].sum()\n",
    "total_rev_ral"
   ]
  },
  {
   "cell_type": "code",
   "execution_count": 81,
   "metadata": {},
   "outputs": [],
   "source": [
    "# Pie chart data\n",
    "unique_cshop_ral = named_coffee_ral_df[\"name\"].unique()\n",
    "unique_cshop_ash = named_coffee_ash_df[\"name\"].unique()\n",
    "count_cshop_ral = named_coffee_ral_df[\"name\"].count()\n",
    "count_cshop_ash = named_coffee_ash_df[\"name\"].count()\n",
    "# print(count_cshop_ral)\n",
    "# count_cshop.dtype\n",
    "named_coffee_review_count_ral = named_coffee_ral_df.count()\n",
    "# named_coffee_review_count_ral"
   ]
  },
  {
   "cell_type": "code",
   "execution_count": 82,
   "metadata": {},
   "outputs": [],
   "source": [
    "# named_coffee_ral_df['rating'].value_counts()"
   ]
  },
  {
   "cell_type": "code",
   "execution_count": 83,
   "metadata": {},
   "outputs": [],
   "source": [
    "# # # Scatter graph\n",
    "# # The maximum x value for our chart will be 6\n",
    "# x_limit = 6\n",
    "\n",
    "# # List of values from 0 to 100 each value being 1 greater than the last\n",
    "# x_axis = np.arange(0, x_limit, 1)\n",
    "\n",
    "# # Create a random array of data that we will use for our y values\n",
    "# data = [named_coffee_ral_df(\"review_count\") for value in x_axis]"
   ]
  },
  {
   "cell_type": "code",
   "execution_count": 84,
   "metadata": {},
   "outputs": [],
   "source": [
    "# # Tells matplotlib that we want to make a scatter plot\n",
    "# The size of each point on our plot is determined by their x value\n",
    "# plt.scatter(x_axis, data, marker=\"o\", facecolors=\"red\", edgecolors=\"black\",\n",
    "#             s=x_axis, alpha=0.75)"
   ]
  },
  {
   "cell_type": "code",
   "execution_count": 85,
   "metadata": {},
   "outputs": [],
   "source": [
    "# # Set x axis and tick locations\n",
    "# x_axis = np.arange(len(coffee_ral_df))\n",
    "# tick_locations = [value+0.4 for value in x_axis]"
   ]
  },
  {
   "cell_type": "code",
   "execution_count": 86,
   "metadata": {},
   "outputs": [],
   "source": [
    "# # Create a list indicating where to write x labels and set figure size to adjust for space\n",
    "# plt.figure(figsize=(20,3))\n",
    "# plt.bar(x_axis, coffee_ral_df[\"Inches\"], color='r', alpha=0.5, align=\"edge\")\n",
    "# plt.xticks(tick_locations, coffee_ral_df[\"State\"], rotation=\"vertical\")"
   ]
  },
  {
   "cell_type": "code",
   "execution_count": 103,
   "metadata": {},
   "outputs": [
    {
     "data": {
      "image/png": "[encoded data removed]",
      "text/plain": [
       "<Figure size 432x288 with 1 Axes>"
      ]
     },
     "metadata": {
      "needs_background": "light"
     },
     "output_type": "display_data"
    }
   ],
   "source": [
    "# Create a bar chart based off of the group series from before\n",
    "count_names = total_rev_ral.plot(kind='barh')\n",
    "# count_names_ash = total_rev_ash.plot(kind='barh')\n",
    "\n",
    "# Set the xlabel and ylabel using class methods\n",
    "plt.title(\"Total ratings for Coffee Shops in Raleigh, NC\")\n",
    "count_names.set_xlabel(\"Total Ratings per\")\n",
    "count_names.set_ylabel(\"Coffee Shops\")\n",
    "plt.tight_layout()\n",
    "plt.savefig(\"resources/raleigh_coffee1.png\", bbox_inches = \"tight\")\n",
    "plt.show()\n",
    "\n",
    "# savefig('raleigh_coffee1.png', bbox_inches='tight')"
   ]
  },
  {
   "cell_type": "code",
   "execution_count": 96,
   "metadata": {},
   "outputs": [],
   "source": [
    "# total_rev_ash\n",
    "sorted_ash = sorted(total_rev_ash, reverse=True)\n",
    "# testnamed_coffee_ral_df = total_rev_ash.sort_values([\"review_count\"], ascending=[False])\n",
    "# testnamed_coffee_ral_df"
   ]
  },
  {
   "cell_type": "code",
   "execution_count": 102,
   "metadata": {},
   "outputs": [
    {
     "data": {
      "image/png": "[encoded data removed]",
      "text/plain": [
       "<Figure size 432x288 with 1 Axes>"
      ]
     },
     "metadata": {
      "needs_background": "light"
     },
     "output_type": "display_data"
    }
   ],
   "source": [
    "# testnamed_coffee_ral_df = total_rev_ash.sort_values('review_count', ascending=[False,True])\n",
    "count_names_ash = total_rev_ash.plot(kind='barh')\n",
    "# Set the xlabel and ylabel using class methods\n",
    "plt.title(\"Total ratings for Coffee Shops in Ashville, NC\")\n",
    "count_names_ash.set_xlabel(\"Total Ratings per Shop\")\n",
    "count_names_ash.set_ylabel(\"Coffee Shops\")\n",
    "plt.tight_layout()\n",
    "plt.savefig(\"resources/ashville_coffee1.png\", bbox_inches = \"tight\")\n",
    "plt.show()\n",
    "# plt.tight_layout()"
   ]
  },
  {
   "cell_type": "code",
   "execution_count": 101,
   "metadata": {},
   "outputs": [],
   "source": [
    "# # Labels for the sections of our pie chart\n",
    "# labels = (unique_cshop_ral)\n",
    "# # print(labels)\n",
    "\n",
    "# # The values of each section of the pie chart\n",
    "# sizes = (count_cshop_ral)\n",
    "# # print(len(count_cshop_ral))\n",
    "# # print(sizes)\n",
    "# # The colors of each section of the pie chart\n",
    "# # colors = [\"red\", \"orange\", \"lightcoral\", \"lightskyblue\"]\n",
    "\n",
    "# # Tells matplotlib to seperate the \"Python\" section from the others\n",
    "# explode = (0.1, 0, 0, 0, 0, 0, 0, 0, 0, 0, 0, 0, 0, 0)"
   ]
  },
  {
   "cell_type": "code",
   "execution_count": 100,
   "metadata": {},
   "outputs": [],
   "source": [
    "# Creates the pie chart based upon the values above\n",
    "# Automatically finds the percentages of each part of the pie chart\n",
    "# ingredients = [x.split()[-1] for x in labels]\n",
    "# fig, ax = plt.subplots(figsize=(6, 3), subplot_kw=dict(aspect=\"equal\"))\n",
    "# ax.legend(wedges, ingredients, title=\"Ingredients\", loc=\"center left\", bbox_to_anchor=(1, 0, 0.5, 1))\n",
    "\n",
    "# plt.setp(autotexts, size=8, weight=\"bold\")\n",
    "\n",
    "# plt.title(\"Raleigh, NC Coffee Bars\")\n",
    "# plt.pie(sizes, explode=explode, labels=labels, autopct=\"%1.1f%%\", pctdistance=1.0,\n",
    "#         rotatelabels=True, shadow=True, startangle=90)"
   ]
  },
  {
   "cell_type": "code",
   "execution_count": null,
   "metadata": {},
   "outputs": [],
   "source": []
  },
  {
   "cell_type": "code",
   "execution_count": null,
   "metadata": {},
   "outputs": [],
   "source": []
  },
  {
   "cell_type": "code",
   "execution_count": null,
   "metadata": {},
   "outputs": [],
   "source": []
  },
  {
   "cell_type": "code",
   "execution_count": null,
   "metadata": {},
   "outputs": [],
   "source": []
  }
 ],
 "metadata": {
  "kernelspec": {
   "display_name": "Python 3",
   "language": "python",
   "name": "python3"
  },
  "language_info": {
   "codemirror_mode": {
    "name": "ipython",
    "version": 3
   },
   "file_extension": ".py",
   "mimetype": "text/x-python",
   "name": "python",
   "nbconvert_exporter": "python",
   "pygments_lexer": "ipython3",
   "version": "3.6.6"
  }
 },
 "nbformat": 4,
 "nbformat_minor": 2
}
